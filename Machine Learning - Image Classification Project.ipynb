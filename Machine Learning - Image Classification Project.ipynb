{
 "cells": [
  {
   "cell_type": "markdown",
   "metadata": {},
   "source": [
    "# Project Scope"
   ]
  },
  {
   "cell_type": "markdown",
   "metadata": {},
   "source": [
    "Working on a popular Fashion MNIST dataset for this project. The dataset includes tiny images of fashion pieces. The objective is to create a set of supervised learning models that can predict the type of item based on its image."
   ]
  },
  {
   "cell_type": "markdown",
   "metadata": {},
   "source": [
    "In order to load the dataset, installing `tensorflow V2`."
   ]
  },
  {
   "cell_type": "code",
   "execution_count": 1,
   "metadata": {
    "scrolled": true
   },
   "outputs": [
    {
     "name": "stdout",
     "output_type": "stream",
     "text": [
      "Collecting tensorflow\n",
      "  Downloading tensorflow-2.10.0-cp39-cp39-win_amd64.whl (455.9 MB)\n",
      "Requirement already satisfied: wrapt>=1.11.0 in c:\\anaconda\\lib\\site-packages (from tensorflow) (1.12.1)\n",
      "Collecting keras-preprocessing>=1.1.1\n",
      "  Downloading Keras_Preprocessing-1.1.2-py2.py3-none-any.whl (42 kB)\n",
      "Requirement already satisfied: numpy>=1.20 in c:\\anaconda\\lib\\site-packages (from tensorflow) (1.21.5)\n",
      "Collecting flatbuffers>=2.0\n",
      "  Downloading flatbuffers-22.10.26-py2.py3-none-any.whl (26 kB)\n",
      "Collecting absl-py>=1.0.0\n",
      "  Downloading absl_py-1.3.0-py3-none-any.whl (124 kB)\n",
      "Requirement already satisfied: six>=1.12.0 in c:\\anaconda\\lib\\site-packages (from tensorflow) (1.16.0)\n",
      "Collecting tensorboard<2.11,>=2.10\n",
      "  Downloading tensorboard-2.10.1-py3-none-any.whl (5.9 MB)\n",
      "Requirement already satisfied: h5py>=2.9.0 in c:\\anaconda\\lib\\site-packages (from tensorflow) (3.6.0)\n",
      "Collecting libclang>=13.0.0\n",
      "  Downloading libclang-14.0.6-py2.py3-none-win_amd64.whl (14.2 MB)\n",
      "Requirement already satisfied: packaging in c:\\anaconda\\lib\\site-packages (from tensorflow) (21.3)\n",
      "Collecting keras<2.11,>=2.10.0\n",
      "  Downloading keras-2.10.0-py2.py3-none-any.whl (1.7 MB)\n",
      "Requirement already satisfied: grpcio<2.0,>=1.24.3 in c:\\anaconda\\lib\\site-packages (from tensorflow) (1.42.0)\n",
      "Collecting termcolor>=1.1.0\n",
      "  Downloading termcolor-2.0.1-py3-none-any.whl (5.4 kB)\n",
      "Requirement already satisfied: protobuf<3.20,>=3.9.2 in c:\\anaconda\\lib\\site-packages (from tensorflow) (3.19.1)\n",
      "Requirement already satisfied: typing-extensions>=3.6.6 in c:\\anaconda\\lib\\site-packages (from tensorflow) (4.1.1)\n",
      "Collecting tensorflow-estimator<2.11,>=2.10.0\n",
      "  Downloading tensorflow_estimator-2.10.0-py2.py3-none-any.whl (438 kB)\n",
      "Collecting opt-einsum>=2.3.2\n",
      "  Downloading opt_einsum-3.3.0-py3-none-any.whl (65 kB)\n",
      "Collecting gast<=0.4.0,>=0.2.1\n",
      "  Downloading gast-0.4.0-py3-none-any.whl (9.8 kB)\n",
      "Collecting tensorflow-io-gcs-filesystem>=0.23.1\n",
      "  Downloading tensorflow_io_gcs_filesystem-0.27.0-cp39-cp39-win_amd64.whl (1.5 MB)\n",
      "Collecting google-pasta>=0.1.1\n",
      "  Downloading google_pasta-0.2.0-py3-none-any.whl (57 kB)\n",
      "Collecting astunparse>=1.6.0\n",
      "  Downloading astunparse-1.6.3-py2.py3-none-any.whl (12 kB)\n",
      "Requirement already satisfied: setuptools in c:\\anaconda\\lib\\site-packages (from tensorflow) (61.2.0)\n",
      "Requirement already satisfied: wheel<1.0,>=0.23.0 in c:\\anaconda\\lib\\site-packages (from astunparse>=1.6.0->tensorflow) (0.37.1)\n",
      "Collecting tensorboard-data-server<0.7.0,>=0.6.0\n",
      "  Downloading tensorboard_data_server-0.6.1-py3-none-any.whl (2.4 kB)\n",
      "Collecting tensorboard-plugin-wit>=1.6.0\n",
      "  Downloading tensorboard_plugin_wit-1.8.1-py3-none-any.whl (781 kB)\n",
      "Requirement already satisfied: markdown>=2.6.8 in c:\\anaconda\\lib\\site-packages (from tensorboard<2.11,>=2.10->tensorflow) (3.3.4)\n",
      "Requirement already satisfied: google-auth<3,>=1.6.3 in c:\\anaconda\\lib\\site-packages (from tensorboard<2.11,>=2.10->tensorflow) (1.33.0)\n",
      "Collecting google-auth-oauthlib<0.5,>=0.4.1\n",
      "  Downloading google_auth_oauthlib-0.4.6-py2.py3-none-any.whl (18 kB)\n",
      "Requirement already satisfied: requests<3,>=2.21.0 in c:\\anaconda\\lib\\site-packages (from tensorboard<2.11,>=2.10->tensorflow) (2.27.1)\n",
      "Requirement already satisfied: werkzeug>=1.0.1 in c:\\anaconda\\lib\\site-packages (from tensorboard<2.11,>=2.10->tensorflow) (2.0.3)\n",
      "Requirement already satisfied: pyasn1-modules>=0.2.1 in c:\\anaconda\\lib\\site-packages (from google-auth<3,>=1.6.3->tensorboard<2.11,>=2.10->tensorflow) (0.2.8)\n",
      "Requirement already satisfied: rsa<5,>=3.1.4 in c:\\anaconda\\lib\\site-packages (from google-auth<3,>=1.6.3->tensorboard<2.11,>=2.10->tensorflow) (4.7.2)\n",
      "Requirement already satisfied: cachetools<5.0,>=2.0.0 in c:\\anaconda\\lib\\site-packages (from google-auth<3,>=1.6.3->tensorboard<2.11,>=2.10->tensorflow) (4.2.2)\n",
      "Collecting requests-oauthlib>=0.7.0\n",
      "  Downloading requests_oauthlib-1.3.1-py2.py3-none-any.whl (23 kB)\n",
      "Requirement already satisfied: pyasn1<0.5.0,>=0.4.6 in c:\\anaconda\\lib\\site-packages (from pyasn1-modules>=0.2.1->google-auth<3,>=1.6.3->tensorboard<2.11,>=2.10->tensorflow) (0.4.8)\n",
      "Requirement already satisfied: urllib3<1.27,>=1.21.1 in c:\\anaconda\\lib\\site-packages (from requests<3,>=2.21.0->tensorboard<2.11,>=2.10->tensorflow) (1.26.9)\n",
      "Requirement already satisfied: idna<4,>=2.5 in c:\\anaconda\\lib\\site-packages (from requests<3,>=2.21.0->tensorboard<2.11,>=2.10->tensorflow) (3.3)\n",
      "Requirement already satisfied: charset-normalizer~=2.0.0 in c:\\anaconda\\lib\\site-packages (from requests<3,>=2.21.0->tensorboard<2.11,>=2.10->tensorflow) (2.0.4)\n",
      "Requirement already satisfied: certifi>=2017.4.17 in c:\\anaconda\\lib\\site-packages (from requests<3,>=2.21.0->tensorboard<2.11,>=2.10->tensorflow) (2021.10.8)\n",
      "Collecting oauthlib>=3.0.0\n",
      "  Downloading oauthlib-3.2.2-py3-none-any.whl (151 kB)\n",
      "Requirement already satisfied: pyparsing!=3.0.5,>=2.0.2 in c:\\anaconda\\lib\\site-packages (from packaging->tensorflow) (3.0.4)\n",
      "Installing collected packages: oauthlib, requests-oauthlib, tensorboard-plugin-wit, tensorboard-data-server, google-auth-oauthlib, absl-py, termcolor, tensorflow-io-gcs-filesystem, tensorflow-estimator, tensorboard, opt-einsum, libclang, keras-preprocessing, keras, google-pasta, gast, flatbuffers, astunparse, tensorflow\n",
      "Successfully installed absl-py-1.3.0 astunparse-1.6.3 flatbuffers-22.10.26 gast-0.4.0 google-auth-oauthlib-0.4.6 google-pasta-0.2.0 keras-2.10.0 keras-preprocessing-1.1.2 libclang-14.0.6 oauthlib-3.2.2 opt-einsum-3.3.0 requests-oauthlib-1.3.1 tensorboard-2.10.1 tensorboard-data-server-0.6.1 tensorboard-plugin-wit-1.8.1 tensorflow-2.10.0 tensorflow-estimator-2.10.0 tensorflow-io-gcs-filesystem-0.27.0 termcolor-2.0.1\n"
     ]
    }
   ],
   "source": [
    "!pip install --upgrade tensorflow"
   ]
  },
  {
   "cell_type": "markdown",
   "metadata": {},
   "source": [
    "Check the version of it."
   ]
  },
  {
   "cell_type": "code",
   "execution_count": 1,
   "metadata": {},
   "outputs": [
    {
     "data": {
      "text/plain": [
       "'2.10.0'"
      ]
     },
     "execution_count": 1,
     "metadata": {},
     "output_type": "execute_result"
    }
   ],
   "source": [
    "import tensorflow as tf\n",
    "tf.__version__"
   ]
  },
  {
   "cell_type": "markdown",
   "metadata": {},
   "source": [
    "Now, it's time to load the dataset"
   ]
  },
  {
   "cell_type": "code",
   "execution_count": 2,
   "metadata": {},
   "outputs": [],
   "source": [
    "from tensorflow import keras\n",
    "fashion_mnist = keras.datasets.fashion_mnist\n",
    "(X_train, y_train), (X_test, y_test) = fashion_mnist.load_data()"
   ]
  },
  {
   "cell_type": "markdown",
   "metadata": {},
   "source": [
    "As can be seen from the above code, the dataset was divided into train and test sets. Let's take a look at the X_train"
   ]
  },
  {
   "cell_type": "code",
   "execution_count": 3,
   "metadata": {},
   "outputs": [
    {
     "data": {
      "text/plain": [
       "(60000, 28, 28)"
      ]
     },
     "execution_count": 3,
     "metadata": {},
     "output_type": "execute_result"
    }
   ],
   "source": [
    "X_train.shape"
   ]
  },
  {
   "cell_type": "markdown",
   "metadata": {},
   "source": [
    "As it is clear, the train dataset (`X_train`) contains 60,000 images of size 28 x 28. Visualizing one of the images using the following code:"
   ]
  },
  {
   "cell_type": "code",
   "execution_count": 4,
   "metadata": {},
   "outputs": [
    {
     "data": {
      "image/png": "[encoded data removed]",
      "text/plain": [
       "<Figure size 432x288 with 1 Axes>"
      ]
     },
     "metadata": {
      "needs_background": "light"
     },
     "output_type": "display_data"
    }
   ],
   "source": [
    "import matplotlib as mpl\n",
    "import matplotlib.pyplot as plt\n",
    "%matplotlib inline\n",
    "\n",
    "sample_image = X_train[10]\n",
    "plt.imshow(sample_image, cmap='binary')\n",
    "plt.axis('off')\n",
    "plt.show()"
   ]
  },
  {
   "cell_type": "markdown",
   "metadata": {},
   "source": [
    "The `y_train` also includes values between 0 and 9. Each represents a particular category. For example, checking the value of `y_train` for the above image."
   ]
  },
  {
   "cell_type": "code",
   "execution_count": 5,
   "metadata": {},
   "outputs": [
    {
     "data": {
      "text/plain": [
       "0"
      ]
     },
     "execution_count": 5,
     "metadata": {},
     "output_type": "execute_result"
    }
   ],
   "source": [
    "y_train[10]"
   ]
  },
  {
   "cell_type": "markdown",
   "metadata": {},
   "source": [
    "The above code shows that the image belongs to category 0. To get the associated label with each category, using the following code:"
   ]
  },
  {
   "cell_type": "code",
   "execution_count": 6,
   "metadata": {
    "scrolled": true
   },
   "outputs": [
    {
     "name": "stdout",
     "output_type": "stream",
     "text": [
      "T-shirt/top\n"
     ]
    }
   ],
   "source": [
    "class_names = ['T-shirt/top','Trouser','Pullover','Dress','Coat','Sandal','Shirt','Sneaker','Bag','Ankle boot']\n",
    "print(class_names[y_train[10]])"
   ]
  },
  {
   "cell_type": "markdown",
   "metadata": {},
   "source": [
    "# Reshaping 3 dimension data to 2 dimension"
   ]
  },
  {
   "cell_type": "code",
   "execution_count": 7,
   "metadata": {},
   "outputs": [
    {
     "name": "stdout",
     "output_type": "stream",
     "text": [
      "(60000, 784)\n",
      "(10000, 784)\n"
     ]
    }
   ],
   "source": [
    "#Reshaping the dataset to 2 dimensional since it is 3 dimensional\n",
    "X_train = X_train.reshape(X_train.shape[0], X_train.shape[1] * X_train.shape[2])\n",
    "X_test = X_test.reshape(X_test.shape[0], X_test.shape[1] * X_test.shape[2])\n",
    "\n",
    "print(X_train.shape)\n",
    "print(X_test.shape)"
   ]
  },
  {
   "cell_type": "markdown",
   "metadata": {},
   "source": [
    "# Logistics Regression"
   ]
  },
  {
   "cell_type": "code",
   "execution_count": 8,
   "metadata": {},
   "outputs": [
    {
     "name": "stderr",
     "output_type": "stream",
     "text": [
      "C:\\Anaconda\\lib\\site-packages\\sklearn\\linear_model\\_logistic.py:458: ConvergenceWarning: lbfgs failed to converge (status=1):\n",
      "STOP: TOTAL NO. of ITERATIONS REACHED LIMIT.\n",
      "\n",
      "Increase the number of iterations (max_iter) or scale the data as shown in:\n",
      "    https://scikit-learn.org/stable/modules/preprocessing.html\n",
      "Please also refer to the documentation for alternative solver options:\n",
      "    https://scikit-learn.org/stable/modules/linear_model.html#logistic-regression\n",
      "  n_iter_i = _check_optimize_result(\n"
     ]
    },
    {
     "data": {
      "text/plain": [
       "array([9, 2, 1, ..., 6, 1, 5], dtype=uint8)"
      ]
     },
     "execution_count": 8,
     "metadata": {},
     "output_type": "execute_result"
    }
   ],
   "source": [
    "#Since there is no numeric  value, so applying logistics regression\n",
    "from sklearn.linear_model import LogisticRegression\n",
    "model = LogisticRegression(solver='lbfgs',max_iter=500) #Defined the maximum iteration to 500\n",
    "\n",
    "#Fiting the train dataset to model\n",
    "model.fit(X_train, y_train)\n",
    "\n",
    "#Prediting the model\n",
    "y_test_hat = model.predict(X_test)\n",
    "y_test_hat"
   ]
  },
  {
   "cell_type": "code",
   "execution_count": 9,
   "metadata": {},
   "outputs": [
    {
     "name": "stdout",
     "output_type": "stream",
     "text": [
      "AUC for logisticsRegression: 0.982\n",
      "Accuracy Score for logisticsRegression: 83.69\n"
     ]
    }
   ],
   "source": [
    "#Importing required libraries \n",
    "from sklearn.metrics import accuracy_score\n",
    "from sklearn.metrics import roc_auc_score\n",
    "\n",
    "#Printing accuracy and AUC score which will help to determine the model performance\n",
    "Accuracy_Score = accuracy_score(y_test,y_test_hat, normalize = True) * 100\n",
    "model_auc = roc_auc_score(y_test, model.predict_proba(X_test), multi_class='ovr') \n",
    "print(\"AUC for logisticsRegression: {:.3f}\".format(model_auc))\n",
    "print('Accuracy Score for logisticsRegression:', Accuracy_Score)"
   ]
  },
  {
   "cell_type": "code",
   "execution_count": 10,
   "metadata": {},
   "outputs": [
    {
     "name": "stdout",
     "output_type": "stream",
     "text": [
      "Confusion Matrix\n",
      "[[793   6   9  54  10   0 114   0  14   0]\n",
      " [  3 958   5  26   3   0   3   0   2   0]\n",
      " [ 23   5 728   7 135   0  89   1  12   0]\n",
      " [ 29  20  21 844  36   0  39   0  11   0]\n",
      " [  2   2 104  36 775   0  72   0   9   0]\n",
      " [  0   0   0   1   0 896   0  51  12  40]\n",
      " [136   3 121  39 115   0 564   0  22   0]\n",
      " [  0   0   0   0   0  36   0 937   0  27]\n",
      " [  9   1   9  14   5   8  22   5 927   0]\n",
      " [  0   1   0   0   0  16   1  35   0 947]]\n",
      "              precision    recall  f1-score   support\n",
      "\n",
      "           0       0.80      0.79      0.79      1000\n",
      "           1       0.96      0.96      0.96      1000\n",
      "           2       0.73      0.73      0.73      1000\n",
      "           3       0.83      0.84      0.84      1000\n",
      "           4       0.72      0.78      0.75      1000\n",
      "           5       0.94      0.90      0.92      1000\n",
      "           6       0.62      0.56      0.59      1000\n",
      "           7       0.91      0.94      0.92      1000\n",
      "           8       0.92      0.93      0.92      1000\n",
      "           9       0.93      0.95      0.94      1000\n",
      "\n",
      "    accuracy                           0.84     10000\n",
      "   macro avg       0.84      0.84      0.84     10000\n",
      "weighted avg       0.84      0.84      0.84     10000\n",
      "\n"
     ]
    }
   ],
   "source": [
    "#Plotting confusion matrix to understand the performance of a classifier\n",
    "from sklearn.metrics import classification_report, confusion_matrix\n",
    "print(\"Confusion Matrix\")\n",
    "print(confusion_matrix(y_test,y_test_hat))\n",
    "print(classification_report(y_test,y_test_hat))"
   ]
  },
  {
   "cell_type": "markdown",
   "metadata": {},
   "source": [
    "# Gaussian Naive Bayes"
   ]
  },
  {
   "cell_type": "code",
   "execution_count": 11,
   "metadata": {},
   "outputs": [],
   "source": [
    "#deploying another supervised learning model to \n",
    "from sklearn.naive_bayes import GaussianNB \n",
    "model_nb = GaussianNB()\n",
    "model_nb.fit(X_train, y_train)\n",
    "\n",
    "y_test_hat_nb = model_nb.predict(X_test)"
   ]
  },
  {
   "cell_type": "code",
   "execution_count": 12,
   "metadata": {},
   "outputs": [
    {
     "data": {
      "text/plain": [
       "array([9, 2, 1, ..., 6, 1, 5], dtype=uint8)"
      ]
     },
     "execution_count": 12,
     "metadata": {},
     "output_type": "execute_result"
    }
   ],
   "source": [
    "y_test_hat"
   ]
  },
  {
   "cell_type": "code",
   "execution_count": 13,
   "metadata": {},
   "outputs": [
    {
     "name": "stdout",
     "output_type": "stream",
     "text": [
      "AUC for GaussianNB: 0.895\n",
      "Accuracy Score for GaussianNB: 83.69\n"
     ]
    }
   ],
   "source": [
    "#Printing accuracy and AUC score to determine the model performance\n",
    "Accuracy_Score_GNB = accuracy_score(y_test,y_test_hat, normalize = True) * 100\n",
    "model_nb_auc = roc_auc_score(y_test, model_nb.predict_proba(X_test), multi_class='ovr') \n",
    "print(\"AUC for GaussianNB: {:.3f}\".format(model_nb_auc))\n",
    "print('Accuracy Score for GaussianNB:', Accuracy_Score_GNB)"
   ]
  },
  {
   "cell_type": "code",
   "execution_count": 14,
   "metadata": {},
   "outputs": [
    {
     "name": "stdout",
     "output_type": "stream",
     "text": [
      "Confusion Matrix\n",
      "[[793   6   9  54  10   0 114   0  14   0]\n",
      " [  3 958   5  26   3   0   3   0   2   0]\n",
      " [ 23   5 728   7 135   0  89   1  12   0]\n",
      " [ 29  20  21 844  36   0  39   0  11   0]\n",
      " [  2   2 104  36 775   0  72   0   9   0]\n",
      " [  0   0   0   1   0 896   0  51  12  40]\n",
      " [136   3 121  39 115   0 564   0  22   0]\n",
      " [  0   0   0   0   0  36   0 937   0  27]\n",
      " [  9   1   9  14   5   8  22   5 927   0]\n",
      " [  0   1   0   0   0  16   1  35   0 947]]\n",
      "              precision    recall  f1-score   support\n",
      "\n",
      "           0       0.80      0.79      0.79      1000\n",
      "           1       0.96      0.96      0.96      1000\n",
      "           2       0.73      0.73      0.73      1000\n",
      "           3       0.83      0.84      0.84      1000\n",
      "           4       0.72      0.78      0.75      1000\n",
      "           5       0.94      0.90      0.92      1000\n",
      "           6       0.62      0.56      0.59      1000\n",
      "           7       0.91      0.94      0.92      1000\n",
      "           8       0.92      0.93      0.92      1000\n",
      "           9       0.93      0.95      0.94      1000\n",
      "\n",
      "    accuracy                           0.84     10000\n",
      "   macro avg       0.84      0.84      0.84     10000\n",
      "weighted avg       0.84      0.84      0.84     10000\n",
      "\n"
     ]
    }
   ],
   "source": [
    "print(\"Confusion Matrix\")\n",
    "print(confusion_matrix(y_test,y_test_hat))\n",
    "print(classification_report(y_test,y_test_hat))"
   ]
  },
  {
   "cell_type": "markdown",
   "metadata": {},
   "source": [
    "# KNN(Grid Search with Cross-Validation) Model"
   ]
  },
  {
   "cell_type": "code",
   "execution_count": 17,
   "metadata": {},
   "outputs": [
    {
     "name": "stdout",
     "output_type": "stream",
     "text": [
      "Best Parameter: {'n_neighbors': 4}\n",
      "Best Cross Vlidation Score: 0.8570166666666665\n"
     ]
    }
   ],
   "source": [
    "from sklearn.neighbors import KNeighborsClassifier\n",
    "from sklearn.model_selection import StratifiedKFold\n",
    "from sklearn.model_selection import GridSearchCV\n",
    "\n",
    "\n",
    "model_knn=KNeighborsClassifier()\n",
    "param_grid={'n_neighbors': [1,2,3,4,5,6]}\n",
    "cv=StratifiedKFold(n_splits=5, random_state=0, shuffle=True)\n",
    "grid=GridSearchCV(model_knn, param_grid, cv=cv, scoring='accuracy', return_train_score=True)\n",
    "grid.fit(X_train, y_train)\n",
    "y_test_hat=grid.predict(X_test)\n",
    "y_train_hat=grid.predict(X_train)\n",
    "\n",
    "print(\"Best Parameter: {}\".format(grid.best_params_))\n",
    "print(\"Best Cross Vlidation Score: {}\".format(grid.best_score_))"
   ]
  },
  {
   "cell_type": "code",
   "execution_count": 20,
   "metadata": {},
   "outputs": [
    {
     "name": "stdout",
     "output_type": "stream",
     "text": [
      "Accuracy score for KNN: 85.77\n",
      "AUC for KNN: 0.965\n",
      "Confusion Matrix\n",
      "[[886   1  20  14   3   1  72   1   2   0]\n",
      " [  8 971   3  10   4   0   3   0   1   0]\n",
      " [ 27   2 831  11  69   0  60   0   0   0]\n",
      " [ 48   7  15 868  25   0  34   0   3   0]\n",
      " [  4   1 151  32 743   0  67   0   2   0]\n",
      " [  2   0   0   0   0 855   4  77   0  62]\n",
      " [198   2 143  22  79   0 545   0  11   0]\n",
      " [  0   0   0   0   0   4   0 971   0  25]\n",
      " [  3   0  13   3   5   0  18   7 951   0]\n",
      " [  0   0   0   0   0   1   1  42   0 956]]\n",
      "              precision    recall  f1-score   support\n",
      "\n",
      "           0       0.75      0.89      0.81      1000\n",
      "           1       0.99      0.97      0.98      1000\n",
      "           2       0.71      0.83      0.76      1000\n",
      "           3       0.90      0.87      0.89      1000\n",
      "           4       0.80      0.74      0.77      1000\n",
      "           5       0.99      0.85      0.92      1000\n",
      "           6       0.68      0.55      0.60      1000\n",
      "           7       0.88      0.97      0.93      1000\n",
      "           8       0.98      0.95      0.97      1000\n",
      "           9       0.92      0.96      0.94      1000\n",
      "\n",
      "    accuracy                           0.86     10000\n",
      "   macro avg       0.86      0.86      0.86     10000\n",
      "weighted avg       0.86      0.86      0.86     10000\n",
      "\n"
     ]
    }
   ],
   "source": [
    "model_knn_auc = roc_auc_score(y_test, grid.predict_proba(X_test), multi_class='ovr') \n",
    "\n",
    "print(\"Accuracy score for KNN:\", accuracy_score(y_test, y_test_hat, normalize=True)*100)\n",
    "print(\"AUC for KNN: {:.3f}\".format(model_knn_auc))\n",
    "\n",
    "#Printing the confusion matrix to visualize important predictive analytics like recall, specificity, accuracy, and precision\n",
    "print(\"Confusion Matrix\")\n",
    "cf_matrix_knn = confusion_matrix(y_test,y_test_hat)\n",
    "print(cf_matrix_knn)\n",
    "print(classification_report(y_test,y_test_hat))"
   ]
  },
  {
   "cell_type": "markdown",
   "metadata": {},
   "source": [
    "# Decision Tree(Grid Search with Cross-Validation) Model"
   ]
  },
  {
   "cell_type": "code",
   "execution_count": 22,
   "metadata": {},
   "outputs": [
    {
     "name": "stdout",
     "output_type": "stream",
     "text": [
      "Best Parameter: {'max_depth': 9}\n",
      "Best Cross Vlidation Score: 0.8027333333333333\n"
     ]
    }
   ],
   "source": [
    "from sklearn.tree import DecisionTreeClassifier, export_graphviz\n",
    "from sklearn.manifold import Isomap\n",
    "\n",
    "model_dt=DecisionTreeClassifier()\n",
    "param_grid={'max_depth': [5,6,7,9]}\n",
    "cv=StratifiedKFold(n_splits=5, random_state=0, shuffle=True)\n",
    "grid=GridSearchCV(model_dt, param_grid, cv=cv, scoring='accuracy', return_train_score=True)\n",
    "grid.fit(X_train, y_train)\n",
    "y_test_hat=grid.predict(X_test)\n",
    "y_train_hat=grid.predict(X_train)\n",
    "\n",
    "print(\"Best Parameter: {}\".format(grid.best_params_))\n",
    "print(\"Best Cross Vlidation Score: {}\".format(grid.best_score_))"
   ]
  },
  {
   "cell_type": "code",
   "execution_count": 23,
   "metadata": {},
   "outputs": [
    {
     "name": "stdout",
     "output_type": "stream",
     "text": [
      "Accuracy score for Decision Tree: 79.79\n",
      "AUC for Decision Tree: 0.963\n",
      "Confusion Matrix\n",
      "[[773   2  30  44   8   3 125   1  14   0]\n",
      " [ 11 917   6  44   7   1  10   0   3   1]\n",
      " [ 11   0 680  11 210   0  77   0  11   0]\n",
      " [ 34   5  29 805  74   4  42   0   7   0]\n",
      " [  3   0 138  43 712   0 102   0   2   0]\n",
      " [  1   1   1   2   0 873   0  77  18  27]\n",
      " [141   1 161  43 136   4 496   0  18   0]\n",
      " [  0   0   0   0   0  28   0 935   4  33]\n",
      " [  2   1  21   8  20   6  34  12 895   1]\n",
      " [  0   0   1   0   0  16   3  84   3 893]]\n",
      "              precision    recall  f1-score   support\n",
      "\n",
      "           0       0.79      0.77      0.78      1000\n",
      "           1       0.99      0.92      0.95      1000\n",
      "           2       0.64      0.68      0.66      1000\n",
      "           3       0.81      0.81      0.81      1000\n",
      "           4       0.61      0.71      0.66      1000\n",
      "           5       0.93      0.87      0.90      1000\n",
      "           6       0.56      0.50      0.53      1000\n",
      "           7       0.84      0.94      0.89      1000\n",
      "           8       0.92      0.90      0.91      1000\n",
      "           9       0.94      0.89      0.91      1000\n",
      "\n",
      "    accuracy                           0.80     10000\n",
      "   macro avg       0.80      0.80      0.80     10000\n",
      "weighted avg       0.80      0.80      0.80     10000\n",
      "\n"
     ]
    }
   ],
   "source": [
    "model_dt_auc = roc_auc_score(y_test, grid.predict_proba(X_test), multi_class='ovr') \n",
    "\n",
    "print(\"Accuracy score for Decision Tree:\", accuracy_score(y_test, y_test_hat, normalize=True)*100)\n",
    "print(\"AUC for Decision Tree: {:.3f}\".format(model_dt_auc))\n",
    "\n",
    "#Printing the confusion matrix to visualize important predictive analytics like recall, specificity, accuracy, and precision\n",
    "print(\"Confusion Matrix\")\n",
    "cf_matrix_dt = confusion_matrix(y_test,y_test_hat)\n",
    "print(cf_matrix_dt)\n",
    "print(classification_report(y_test,y_test_hat))"
   ]
  },
  {
   "cell_type": "markdown",
   "metadata": {},
   "source": [
    "# Random Forest(Grid Search with Cross-Validation) Model"
   ]
  },
  {
   "cell_type": "code",
   "execution_count": 24,
   "metadata": {},
   "outputs": [
    {
     "name": "stdout",
     "output_type": "stream",
     "text": [
      "Best Parameter: {'max_depth': 9, 'n_estimators': 300}\n",
      "Best Cross Vlidation Score: 0.8450333333333333\n"
     ]
    }
   ],
   "source": [
    "from sklearn.ensemble import RandomForestClassifier\n",
    "\n",
    "model_rf=RandomForestClassifier()\n",
    "param_grid={'max_depth':[5,6,7,9], 'n_estimators':[100, 300, 500]}\n",
    "cv=StratifiedKFold(n_splits=5, random_state=0, shuffle=True)\n",
    "grid=GridSearchCV(model_rf, param_grid, cv=cv, scoring='accuracy', return_train_score=True)\n",
    "grid.fit(X_train, y_train)\n",
    "y_test_hat=grid.predict(X_test)\n",
    "y_train_hat=grid.predict(X_train)\n",
    "\n",
    "print(\"Best Parameter: {}\".format(grid.best_params_))\n",
    "print(\"Best Cross Vlidation Score: {}\".format(grid.best_score_))"
   ]
  },
  {
   "cell_type": "code",
   "execution_count": 26,
   "metadata": {},
   "outputs": [
    {
     "name": "stdout",
     "output_type": "stream",
     "text": [
      "Accuracy score for Random Forest: 83.75\n",
      "AUC for Random Forest: 0.984\n",
      "Confusion Matrix\n",
      "[[820   1  22  65   6   1  70   0  15   0]\n",
      " [  3 935   9  40   5   0   6   0   2   0]\n",
      " [  7   0 713   8 218   0  49   0   5   0]\n",
      " [ 23   1  16 895  38   0  25   0   2   0]\n",
      " [  0   1  98  49 803   0  46   0   3   0]\n",
      " [  0   0   0   1   0 927   0  51   2  19]\n",
      " [198   1 154  45 120   0 463   0  19   0]\n",
      " [  0   0   0   0   0   8   0 920   0  72]\n",
      " [  0   1  17   5   6   2   6   4 958   1]\n",
      " [  0   0   0   0   0   6   1  50   2 941]]\n",
      "              precision    recall  f1-score   support\n",
      "\n",
      "           0       0.78      0.82      0.80      1000\n",
      "           1       0.99      0.94      0.96      1000\n",
      "           2       0.69      0.71      0.70      1000\n",
      "           3       0.81      0.90      0.85      1000\n",
      "           4       0.67      0.80      0.73      1000\n",
      "           5       0.98      0.93      0.95      1000\n",
      "           6       0.70      0.46      0.56      1000\n",
      "           7       0.90      0.92      0.91      1000\n",
      "           8       0.95      0.96      0.95      1000\n",
      "           9       0.91      0.94      0.93      1000\n",
      "\n",
      "    accuracy                           0.84     10000\n",
      "   macro avg       0.84      0.84      0.83     10000\n",
      "weighted avg       0.84      0.84      0.83     10000\n",
      "\n"
     ]
    }
   ],
   "source": [
    "model_rf_auc = roc_auc_score(y_test, grid.predict_proba(X_test), multi_class='ovr') \n",
    "\n",
    "print(\"Accuracy score for Random Forest:\", accuracy_score(y_test, y_test_hat, normalize=True)*100)\n",
    "print(\"AUC for Random Forest: {:.3f}\".format(model_rf_auc))\n",
    "\n",
    "#Printing the confusion matrix to visualize important predictive analytics like recall, specificity, accuracy, and precision\n",
    "print(\"Confusion Matrix\")\n",
    "cf_matrix_rf = confusion_matrix(y_test,y_test_hat)\n",
    "print(cf_matrix_rf)\n",
    "print(classification_report(y_test,y_test_hat))"
   ]
  },
  {
   "cell_type": "markdown",
   "metadata": {},
   "source": [
    "I have used five supervised learning algorithms for image classification in Fashion MNIST dataset and calculated few performance metrics for \n",
    "metrics in order to evaluate the models."
   ]
  },
  {
   "cell_type": "markdown",
   "metadata": {},
   "source": [
    "# Models comparison details"
   ]
  },
  {
   "cell_type": "markdown",
   "metadata": {},
   "source": [
    " Models                                    Accuracy        Precision        Recall        Roc_auc score  \n",
    "\n",
    " Logistic Regression Model:                      83.69            0.84            0.84            0.9820\n",
    " Gaussian Naive Bayes Model:                     83.69            0.84            0.84            0.8950  \n",
    " KNN Model:                                      85.77            0.86            0.86            0.9650 \n",
    " Decision Tree Model:                            79.79            0.80            0.80            0.9630\n",
    " Random Forest Model:                            83.75            0.84            0.84            0.9840"
   ]
  },
  {
   "cell_type": "markdown",
   "metadata": {},
   "source": [
    " After applying 5 supervised learning model, K-Nearest Neighbors seems the best model to predict because it has the Accuracy score of 85.77 and Precision and Recall 86.00, 86.00 respectively and AUC Score 96.50, which seems a great model score as against all other models. Hence, I would select KNN as my best model"
   ]
  },
  {
   "cell_type": "markdown",
   "metadata": {},
   "source": [
    "# Predicting own fashions using trained model"
   ]
  },
  {
   "cell_type": "code",
   "execution_count": 11,
   "metadata": {},
   "outputs": [
    {
     "data": {
      "image/png": "[encoded data removed]",
      "text/plain": [
       "<Figure size 432x288 with 4 Axes>"
      ]
     },
     "metadata": {
      "needs_background": "light"
     },
     "output_type": "display_data"
    }
   ],
   "source": [
    "import numpy as np\n",
    "import pandas as pd\n",
    "from matplotlib import pyplot as plt\n",
    "import cv2\n",
    "import os\n",
    "\n",
    "\n",
    "#Resizing all the images, and grayscaling\n",
    "allimagefolder='./image_prediction/'\n",
    "image_frame=pd.DataFrame()\n",
    "for i in enumerate(os.listdir(allimagefolder)):\n",
    "    plt.subplot(330+1+i[0])\n",
    "    picture=cv2.imread(allimagefolder+i[1])\n",
    "    resized_pictures=cv2.resize(picture, (28, 28))\n",
    "    gs_picture=cv2.cvtColor(resized_pictures, cv2.COLOR_BGR2GRAY)\n",
    "    gs_picture_test=np.reshape(gs_picture,[1,784])\n",
    "    picture=pd.DataFrame(gs_picture_test)\n",
    "    plt.imshow(gs_picture)\n",
    "    image_frame=pd.concat([image_frame, picture])"
   ]
  },
  {
   "cell_type": "code",
   "execution_count": 14,
   "metadata": {},
   "outputs": [
    {
     "data": {
      "text/plain": [
       "array([2, 8, 8, 2], dtype=uint8)"
      ]
     },
     "execution_count": 14,
     "metadata": {},
     "output_type": "execute_result"
    }
   ],
   "source": [
    "# Using KNN the best model to predict own fashion pieces.\n",
    "from sklearn.neighbors import KNeighborsClassifier\n",
    "\n",
    "model_knn= KNeighborsClassifier(n_neighbors=9)\n",
    "model_knn.fit(X_train, y_train);\n",
    "\n",
    "y_test=[4, 8, 7, 0]\n",
    "\n",
    "y_test_hat  = model_knn.predict(image_frame)\n",
    "y_test_hat"
   ]
  },
  {
   "cell_type": "code",
   "execution_count": 15,
   "metadata": {},
   "outputs": [
    {
     "name": "stdout",
     "output_type": "stream",
     "text": [
      "25.0\n"
     ]
    }
   ],
   "source": [
    "print(accuracy_score(y_test, y_test_hat, normalize=True)*100)"
   ]
  },
  {
   "cell_type": "markdown",
   "metadata": {},
   "source": [
    "# Conclusion:"
   ]
  },
  {
   "cell_type": "markdown",
   "metadata": {},
   "source": [
    "After traning the models and fitting own fasion images to the best trained model it can be observed, although the model is not too accurate, but it is able to classify some images accurately. "
   ]
  }
 ],
 "metadata": {
  "kernelspec": {
   "display_name": "Python 3 (ipykernel)",
   "language": "python",
   "name": "python3"
  },
  "language_info": {
   "codemirror_mode": {
    "name": "ipython",
    "version": 3
   },
   "file_extension": ".py",
   "mimetype": "text/x-python",
   "name": "python",
   "nbconvert_exporter": "python",
   "pygments_lexer": "ipython3",
   "version": "3.9.12"
  }
 },
 "nbformat": 4,
 "nbformat_minor": 4
}
